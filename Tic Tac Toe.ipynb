{
 "cells": [
  {
   "cell_type": "markdown",
   "metadata": {},
   "source": [
    "___\n",
    "\n",
    "<a href='https://www.udemy.com/user/joseportilla/'><img src='../Pierian_Data_Logo.png'/></a>\n",
    "___\n",
    "<center><em>Content Copyright by Pierian Data</em></center>"
   ]
  },
  {
   "cell_type": "markdown",
   "metadata": {},
   "source": [
    "# Milestone Project 1: Walkthrough Steps Workbook\n",
    "\n",
    "Below is a set of steps for you to follow to try to create the Tic Tac Toe Milestone Project game!"
   ]
  },
  {
   "cell_type": "markdown",
   "metadata": {},
   "source": [
    "#### Some suggested tools before you get started:\n",
    "To take input from a user:\n",
    "\n",
    "    player1 = input(\"Please pick a marker 'X' or 'O'\")\n",
    "    \n",
    "Note that input() takes in a string. If you need an integer value, use\n",
    "\n",
    "    position = int(input('Please enter a number'))\n",
    "    \n",
    "<br>To clear the screen between moves:\n",
    "\n",
    "    from IPython.display import clear_output\n",
    "    clear_output()\n",
    "    \n",
    "Note that clear_output() will only work in jupyter. To clear the screen in other IDEs, consider:\n",
    "\n",
    "    print('\\n'*100)\n",
    "    \n",
    "This scrolls the previous board up out of view. Now on to the program!"
   ]
  },
  {
   "cell_type": "markdown",
   "metadata": {},
   "source": [
    "**Step 1: Write a function that can print out a board. Set up your board as a list, where each index 1-9 corresponds with a number on a number pad, so you get a 3 by 3 board representation.**"
   ]
  },
  {
   "cell_type": "code",
   "execution_count": 3,
   "metadata": {},
   "outputs": [],
   "source": [
    "from IPython.display import clear_output\n",
    "\n",
    "def display_board(board):\n",
    "    \n",
    "    print(\"\\n   |   |   \")\n",
    "    print(f\" {board[7]} | {board[8]} | {board[9]} \")\n",
    "    print(\"___|___|___\")\n",
    "    print(\"   |   |   \")\n",
    "    print(f\" {board[4]} | {board[5]} | {board[6]} \")\n",
    "    print(\"___|___|___\")\n",
    "    print(\"   |   |   \")\n",
    "    print(f\" {board[1]} | {board[2]} | {board[3]} \")\n",
    "    print(\"   |   |   \")"
   ]
  },
  {
   "cell_type": "markdown",
   "metadata": {},
   "source": [
    "**TEST Step 1:** run your function on a test version of the board list, and make adjustments as necessary"
   ]
  },
  {
   "cell_type": "code",
   "execution_count": 4,
   "metadata": {},
   "outputs": [
    {
     "name": "stdout",
     "output_type": "stream",
     "text": [
      "\n",
      "   |   |   \n",
      " X | O | X \n",
      "___|___|___\n",
      "   |   |   \n",
      " O | X | O \n",
      "___|___|___\n",
      "   |   |   \n",
      " X | O | X \n",
      "   |   |   \n"
     ]
    }
   ],
   "source": [
    "test_board = ['#','X','O','X','O','X','O','X','O','X']\n",
    "display_board(test_board)"
   ]
  },
  {
   "cell_type": "markdown",
   "metadata": {},
   "source": [
    "**Step 2: Write a function that can take in a player input and assign their marker as 'X' or 'O'. Think about using *while* loops to continually ask until you get a correct answer.**"
   ]
  },
  {
   "cell_type": "code",
   "execution_count": 5,
   "metadata": {},
   "outputs": [],
   "source": [
    "def player_input():\n",
    "    \n",
    "    p1 = ''\n",
    "    p2 = ''\n",
    "    marker = 'NA'\n",
    "    acceptable_markers = ['X','O']\n",
    "    \n",
    "    # Ask Player 1 to enter X or O and assign that marker to the player\n",
    "    \n",
    "    while marker not in acceptable_markers:\n",
    "        marker = input(\"\\nPlease enter 'X' or 'O' \").upper()\n",
    "        \n",
    "        if marker not in acceptable_markers:\n",
    "            print(\"\\nINVALID ENTRY\")\n",
    "            marker = input(\"Please enter 'X' or 'O' \").upper()\n",
    "    \n",
    "    # Assign Player 1's chosen marker to Player 1 and assign the other to Player 2\n",
    "    \n",
    "    p1 = marker\n",
    "    \n",
    "    if p1 == 'X':\n",
    "        p2 = 'O'\n",
    "    else:\n",
    "        p2 = 'X'\n",
    "    \n",
    "    return tuple( (p1,p2) )"
   ]
  },
  {
   "cell_type": "markdown",
   "metadata": {},
   "source": [
    "**TEST Step 2:** run the function to make sure it returns the desired output"
   ]
  },
  {
   "cell_type": "code",
   "execution_count": 6,
   "metadata": {
    "scrolled": false
   },
   "outputs": [
    {
     "name": "stdout",
     "output_type": "stream",
     "text": [
      "\n",
      "Please enter 'X' or 'O' x\n"
     ]
    }
   ],
   "source": [
    "p1_marker, p2_marker = player_input()"
   ]
  },
  {
   "cell_type": "markdown",
   "metadata": {},
   "source": [
    "**Step 3: Write a function that takes in the board list object, a marker ('X' or 'O'), and a desired position (number 1-9) and assigns it to the board.**"
   ]
  },
  {
   "cell_type": "code",
   "execution_count": 7,
   "metadata": {},
   "outputs": [],
   "source": [
    "def place_marker(board, marker, position):\n",
    "        \n",
    "    board[position] = marker"
   ]
  },
  {
   "cell_type": "markdown",
   "metadata": {},
   "source": [
    "**TEST Step 3:** run the place marker function using test parameters and display the modified board"
   ]
  },
  {
   "cell_type": "code",
   "execution_count": 8,
   "metadata": {},
   "outputs": [
    {
     "name": "stdout",
     "output_type": "stream",
     "text": [
      "\n",
      "   |   |   \n",
      " X | $ | X \n",
      "___|___|___\n",
      "   |   |   \n",
      " O | X | O \n",
      "___|___|___\n",
      "   |   |   \n",
      " X | O | X \n",
      "   |   |   \n"
     ]
    }
   ],
   "source": [
    "place_marker(test_board,'$',8)\n",
    "display_board(test_board)"
   ]
  },
  {
   "cell_type": "markdown",
   "metadata": {},
   "source": [
    "**Step 4: Write a function that takes in a board and a mark (X or O) and then checks to see if that mark has won. **"
   ]
  },
  {
   "cell_type": "code",
   "execution_count": 9,
   "metadata": {},
   "outputs": [],
   "source": [
    "def win_check(board, marker):\n",
    "    \n",
    "    win = False\n",
    "    combos = [ (1,4,7),(2,5,8),(3,6,9),(1,2,3),(4,5,6),(7,8,9),(3,5,7),(1,5,9) ]\n",
    "        \n",
    "    for (i1,i2,i3) in combos:\n",
    "            \n",
    "        if board[i1] == board[i2] == board[i3] == marker:\n",
    "            win = True\n",
    "            break\n",
    "           \n",
    "    return win"
   ]
  },
  {
   "cell_type": "markdown",
   "metadata": {},
   "source": [
    "**TEST Step 4:** run the win_check function against our test_board - it should return True"
   ]
  },
  {
   "cell_type": "code",
   "execution_count": 10,
   "metadata": {},
   "outputs": [
    {
     "data": {
      "text/plain": [
       "True"
      ]
     },
     "execution_count": 10,
     "metadata": {},
     "output_type": "execute_result"
    }
   ],
   "source": [
    "win_check(test_board,'X')"
   ]
  },
  {
   "cell_type": "markdown",
   "metadata": {},
   "source": [
    "**Step 5: Write a function that uses the random module to randomly decide which player goes first. You may want to lookup random.randint() Return a string of which player went first.**"
   ]
  },
  {
   "cell_type": "code",
   "execution_count": 11,
   "metadata": {},
   "outputs": [],
   "source": [
    "import random\n",
    "\n",
    "def choose_first():\n",
    "    \n",
    "    print(\"Let's decide which player gets to go first.\\n\")\n",
    "    \n",
    "    p1_name = input(\"Enter a player name: \")\n",
    "    p2_name = input(\"Enter another player name: \")\n",
    "    \n",
    "    p1_int = random.randint(1,101)\n",
    "    p2_int = random.randint(1,101)\n",
    "    \n",
    "    while p1_int == p2_int:\n",
    "        p2_int = random.randint(1,101)\n",
    "        \n",
    "    if p1_int > p2_int:\n",
    "        first_player = p1_name\n",
    "        second_player = p2_name\n",
    "    else:\n",
    "        first_player = p2_name\n",
    "        second_player = p1_name\n",
    "        \n",
    "    return first_player, second_player"
   ]
  },
  {
   "cell_type": "markdown",
   "metadata": {},
   "source": [
    "**Step 6: Write a function that returns a boolean indicating whether a space on the board is freely available.**"
   ]
  },
  {
   "cell_type": "code",
   "execution_count": 12,
   "metadata": {},
   "outputs": [],
   "source": [
    "def space_check(board, position):\n",
    "    \n",
    "    open = False\n",
    "    \n",
    "    if board[position] == ' ':\n",
    "        open = True\n",
    "    \n",
    "    return open"
   ]
  },
  {
   "cell_type": "markdown",
   "metadata": {},
   "source": [
    "**Step 7: Write a function that checks if the board is full and returns a boolean value. True if full, False otherwise.**"
   ]
  },
  {
   "cell_type": "code",
   "execution_count": 13,
   "metadata": {},
   "outputs": [],
   "source": [
    "def full_board_check(board):\n",
    "    \n",
    "    counter = 0\n",
    "    \n",
    "    for i in range(1,10):\n",
    "        \n",
    "        if not space_check(board, i):\n",
    "            counter += 1\n",
    "        else:\n",
    "            pass\n",
    "        \n",
    "    if counter < 9:\n",
    "        return False\n",
    "    else:\n",
    "        return True"
   ]
  },
  {
   "cell_type": "markdown",
   "metadata": {},
   "source": [
    "**Step 8: Write a function that asks for a player's next position (as a number 1-9) and then uses the function from step 6 to check if it's a free position. If it is, then return the position for later use.**"
   ]
  },
  {
   "cell_type": "code",
   "execution_count": 14,
   "metadata": {},
   "outputs": [],
   "source": [
    "def player_choice(board):\n",
    "    \n",
    "    # def position_check():\n",
    "    \n",
    "    position = 0\n",
    "    acceptable_pos = [1,2,3,4,5,6,7,8,9]\n",
    "    \n",
    "    while position not in acceptable_pos:\n",
    "        position = int( input(\"\\nPlease enter 1-9 to choose your position: \"))\n",
    "        \n",
    "        if position not in acceptable_pos:\n",
    "            print(\"INVALID ENTRY\")\n",
    "            position = int( input(\"\\nPlease enter 1-9 to choose your position: \"))\n",
    "    \n",
    "    check = space_check(board, position)\n",
    "    full_board = full_board_check(board)\n",
    "    \n",
    "    while not check and not full_board:\n",
    "        print(f\"\\nPosition {position} is unavailable. Please enter a different number.\")\n",
    "        position = int( input(\"\\nPlease enter 1-9 to choose your position: \"))\n",
    "        check = space_check(board, position)\n",
    "    \n",
    "    return position"
   ]
  },
  {
   "cell_type": "code",
   "execution_count": 17,
   "metadata": {
    "scrolled": true
   },
   "outputs": [],
   "source": [
    "test2_board = ['#',' ',' ',' ',' ',' ',' ',' ',' ',' ']"
   ]
  },
  {
   "cell_type": "markdown",
   "metadata": {},
   "source": [
    "**Step 9: Write a function that asks the player if they want to play again and returns a boolean True if they do want to play again.**"
   ]
  },
  {
   "cell_type": "code",
   "execution_count": 18,
   "metadata": {},
   "outputs": [],
   "source": [
    "def replay():\n",
    "    \n",
    "    play_again = ''\n",
    "    acceptable_values = [\"Y\",\"N\"]\n",
    "    \n",
    "    while play_again not in acceptable_values:\n",
    "        \n",
    "        play_again = input(\"\\nHope you had fun! Would you like to play again? (Y/N) \").upper()\n",
    "        \n",
    "        if play_again not in acceptable_values:\n",
    "            print(\"INVALID ENTRY\")\n",
    "            play_again = input(\"\\nHope you had fun! Would you like to play again? (Y/N) \").upper()\n",
    "    \n",
    "    if play_again == \"Y\":\n",
    "        return True"
   ]
  },
  {
   "cell_type": "markdown",
   "metadata": {
    "collapsed": true
   },
   "source": [
    "**Step 10: Here comes the hard part! Use while loops and the functions you've made to run the game!**"
   ]
  },
  {
   "cell_type": "code",
   "execution_count": 19,
   "metadata": {
    "scrolled": false
   },
   "outputs": [
    {
     "name": "stdout",
     "output_type": "stream",
     "text": [
      "Welcome to Tic Tac Toe!\n",
      "Let's decide which player gets to go first.\n",
      "\n",
      "Enter a player name: Mike\n",
      "Enter another player name: Joe\n",
      "\n",
      "Please enter 'X' or 'O' x\n",
      "\n",
      "Mike, it's your turn!\n",
      "\n",
      "\n",
      "   |   |   \n",
      "   |   |   \n",
      "___|___|___\n",
      "   |   |   \n",
      "   |   |   \n",
      "___|___|___\n",
      "   |   |   \n",
      "   |   |   \n",
      "   |   |   \n",
      "\n",
      "Please enter 1-9 to choose your position: 7\n",
      "\n",
      "   |   |   \n",
      " X |   |   \n",
      "___|___|___\n",
      "   |   |   \n",
      "   |   |   \n",
      "___|___|___\n",
      "   |   |   \n",
      "   |   |   \n",
      "   |   |   \n",
      "\n",
      "Joe, it's your turn!\n",
      "\n",
      "\n",
      "Please enter 1-9 to choose your position: 5\n",
      "\n",
      "   |   |   \n",
      " X |   |   \n",
      "___|___|___\n",
      "   |   |   \n",
      "   | O |   \n",
      "___|___|___\n",
      "   |   |   \n",
      "   |   |   \n",
      "   |   |   \n",
      "\n",
      "Mike, it's your turn!\n",
      "\n",
      "\n",
      "   |   |   \n",
      " X |   |   \n",
      "___|___|___\n",
      "   |   |   \n",
      "   | O |   \n",
      "___|___|___\n",
      "   |   |   \n",
      "   |   |   \n",
      "   |   |   \n",
      "\n",
      "Please enter 1-9 to choose your position: 6\n",
      "\n",
      "   |   |   \n",
      " X |   |   \n",
      "___|___|___\n",
      "   |   |   \n",
      "   | O | X \n",
      "___|___|___\n",
      "   |   |   \n",
      "   |   |   \n",
      "   |   |   \n",
      "\n",
      "Joe, it's your turn!\n",
      "\n",
      "\n",
      "Please enter 1-9 to choose your position: 8\n",
      "\n",
      "   |   |   \n",
      " X | O |   \n",
      "___|___|___\n",
      "   |   |   \n",
      "   | O | X \n",
      "___|___|___\n",
      "   |   |   \n",
      "   |   |   \n",
      "   |   |   \n",
      "\n",
      "Mike, it's your turn!\n",
      "\n",
      "\n",
      "   |   |   \n",
      " X | O |   \n",
      "___|___|___\n",
      "   |   |   \n",
      "   | O | X \n",
      "___|___|___\n",
      "   |   |   \n",
      "   |   |   \n",
      "   |   |   \n",
      "\n",
      "Please enter 1-9 to choose your position: 2\n",
      "\n",
      "   |   |   \n",
      " X | O |   \n",
      "___|___|___\n",
      "   |   |   \n",
      "   | O | X \n",
      "___|___|___\n",
      "   |   |   \n",
      "   | X |   \n",
      "   |   |   \n",
      "\n",
      "Joe, it's your turn!\n",
      "\n",
      "\n",
      "Please enter 1-9 to choose your position: 4\n",
      "\n",
      "   |   |   \n",
      " X | O |   \n",
      "___|___|___\n",
      "   |   |   \n",
      " O | O | X \n",
      "___|___|___\n",
      "   |   |   \n",
      "   | X |   \n",
      "   |   |   \n",
      "\n",
      "Mike, it's your turn!\n",
      "\n",
      "\n",
      "   |   |   \n",
      " X | O |   \n",
      "___|___|___\n",
      "   |   |   \n",
      " O | O | X \n",
      "___|___|___\n",
      "   |   |   \n",
      "   | X |   \n",
      "   |   |   \n",
      "\n",
      "Please enter 1-9 to choose your position: 1\n",
      "\n",
      "   |   |   \n",
      " X | O |   \n",
      "___|___|___\n",
      "   |   |   \n",
      " O | O | X \n",
      "___|___|___\n",
      "   |   |   \n",
      " X | X |   \n",
      "   |   |   \n",
      "\n",
      "Joe, it's your turn!\n",
      "\n",
      "\n",
      "Please enter 1-9 to choose your position: 3\n",
      "\n",
      "   |   |   \n",
      " X | O |   \n",
      "___|___|___\n",
      "   |   |   \n",
      " O | O | X \n",
      "___|___|___\n",
      "   |   |   \n",
      " X | X | O \n",
      "   |   |   \n",
      "\n",
      "Mike, it's your turn!\n",
      "\n",
      "\n",
      "   |   |   \n",
      " X | O |   \n",
      "___|___|___\n",
      "   |   |   \n",
      " O | O | X \n",
      "___|___|___\n",
      "   |   |   \n",
      " X | X | O \n",
      "   |   |   \n",
      "\n",
      "Please enter 1-9 to choose your position: 9\n",
      "\n",
      "   |   |   \n",
      " X | O | X \n",
      "___|___|___\n",
      "   |   |   \n",
      " O | O | X \n",
      "___|___|___\n",
      "   |   |   \n",
      " X | X | O \n",
      "   |   |   \n",
      "\n",
      "The board is full. This game has ended in a draw.\n",
      "\n",
      "Hope you had fun! Would you like to play again? (Y/N) n\n"
     ]
    }
   ],
   "source": [
    "print('Welcome to Tic Tac Toe!')\n",
    "\n",
    "full_board = False\n",
    "win = False\n",
    "\n",
    "game_board = ['#'] + ( [' '] * 9 )\n",
    "\n",
    "# Decide which player goes first\n",
    "players = choose_first()\n",
    "\n",
    "# Players choose their markers\n",
    "p1_marker, p2_marker = player_input()\n",
    "\n",
    "while not full_board:\n",
    "    \n",
    "    while not win:\n",
    "        \n",
    "        #  ***** PLAYER 1 TURN *****\n",
    "        \n",
    "        player1 = True\n",
    "        print( f\"\\n{players[0]}, it's your turn!\\n\")\n",
    "        \n",
    "        # Display board\n",
    "        display_board(game_board)\n",
    "        \n",
    "        # Player chooses position\n",
    "        choice = player_choice(game_board)\n",
    "        \n",
    "        # Player places marker\n",
    "        place_marker( game_board, p1_marker, choice )\n",
    "        display_board(game_board)\n",
    "        \n",
    "        # Check if player has won\n",
    "        win = win_check( game_board, p1_marker )\n",
    "        \n",
    "        if win:\n",
    "            print(f\"\\nCongrats, {players[1]}! You're the winner!\")\n",
    "        \n",
    "        # Check if board is full\n",
    "        full_board = full_board_check(game_board)\n",
    "        \n",
    "        if full_board:\n",
    "            print(\"\\nThe board is full. This game has ended in a draw.\")\n",
    "            break\n",
    "        \n",
    "        #  ***** PLAYER 2 TURN *****\n",
    "        \n",
    "        player1 = False\n",
    "        \n",
    "        if win:\n",
    "            break\n",
    "            \n",
    "        print( f\"\\n{players[1]}, it's your turn!\\n\")\n",
    "        \n",
    "        # Player chooses position\n",
    "        choice = player_choice(game_board)\n",
    "        \n",
    "        # Player places marker\n",
    "        place_marker( game_board, p2_marker, choice )\n",
    "        display_board(game_board)\n",
    "        \n",
    "        # Check if player has won\n",
    "        win = win_check( game_board, p2_marker )\n",
    "        \n",
    "        if win:\n",
    "            print(f\"\\nCongrats, {players[1]}! You're the winner!\")\n",
    "        \n",
    "        # Check if board is full\n",
    "        full_board = full_board_check(game_board)\n",
    "        \n",
    "        if full_board:\n",
    "            print(\"\\nThe board is full. This game has ended in a draw.\")\n",
    "            break\n",
    "\n",
    "    if win:\n",
    "        break\n",
    "\n",
    "    replay = replay()\n",
    "    \n",
    "    if not replay:\n",
    "        break"
   ]
  },
  {
   "cell_type": "markdown",
   "metadata": {
    "collapsed": true
   },
   "source": [
    "## Good Job!"
   ]
  }
 ],
 "metadata": {
  "kernelspec": {
   "display_name": "Python 3 (ipykernel)",
   "language": "python",
   "name": "python3"
  },
  "language_info": {
   "codemirror_mode": {
    "name": "ipython",
    "version": 3
   },
   "file_extension": ".py",
   "mimetype": "text/x-python",
   "name": "python",
   "nbconvert_exporter": "python",
   "pygments_lexer": "ipython3",
   "version": "3.9.1"
  }
 },
 "nbformat": 4,
 "nbformat_minor": 1
}
