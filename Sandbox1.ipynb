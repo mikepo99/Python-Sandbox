{
 "cells": [
  {
   "cell_type": "code",
   "execution_count": 6,
   "id": "5b445d22",
   "metadata": {
    "scrolled": true
   },
   "outputs": [
    {
     "name": "stdout",
     "output_type": "stream",
     "text": [
      "The current value of x is 0\n",
      "The current value of x is 1\n",
      "The current value of x is 2\n",
      "The current value of x is 3\n",
      "The current value of x is 4\n",
      "\n",
      "Doneskiwoowoo!\n"
     ]
    }
   ],
   "source": [
    "x = 0\n",
    "\n",
    "while x < 5:\n",
    "    print(f'The current value of x is {x}')\n",
    "    x += 1\n",
    "else:\n",
    "    print('\\nDoneskiwoowoo!')"
   ]
  },
  {
   "cell_type": "code",
   "execution_count": 1,
   "id": "890a4331",
   "metadata": {},
   "outputs": [
    {
     "name": "stdout",
     "output_type": "stream",
     "text": [
      "M\n",
      "i\n",
      "k\n",
      "e\n",
      " \n",
      "P\n",
      "o\n",
      "i\n",
      "r\n",
      "i\n",
      "e\n",
      "r\n"
     ]
    }
   ],
   "source": [
    "index_count = 0\n",
    "phrase = 'Mike Poirier sucks'\n",
    "\n",
    "for letter in phrase:\n",
    "    if index_count < 12:\n",
    "        print(phrase[index_count])\n",
    "    else:\n",
    "        break\n",
    "    index_count += 1"
   ]
  },
  {
   "cell_type": "code",
   "execution_count": 5,
   "id": "55d41219",
   "metadata": {},
   "outputs": [
    {
     "name": "stdout",
     "output_type": "stream",
     "text": [
      "0\n",
      "T\n",
      "\n",
      "\n",
      "1\n",
      "h\n",
      "\n",
      "\n",
      "2\n",
      "e\n",
      "\n",
      "\n",
      "3\n",
      "i\n",
      "\n",
      "\n",
      "4\n",
      "r\n",
      "\n",
      "\n",
      "5\n",
      " \n",
      "\n",
      "\n",
      "6\n",
      "T\n",
      "\n",
      "\n",
      "7\n",
      "u\n",
      "\n",
      "\n",
      "8\n",
      "r\n",
      "\n",
      "\n",
      "9\n",
      "n\n",
      "\n",
      "\n"
     ]
    }
   ],
   "source": [
    "word = 'Their Turn'\n",
    "\n",
    "for index,letter in enumerate(word):\n",
    "    print(index)\n",
    "    print(letter)\n",
    "    print('\\n')"
   ]
  },
  {
   "cell_type": "code",
   "execution_count": 7,
   "id": "c3362d23",
   "metadata": {},
   "outputs": [],
   "source": [
    "from random import randint"
   ]
  },
  {
   "cell_type": "code",
   "execution_count": 8,
   "id": "fe0e9314",
   "metadata": {},
   "outputs": [
    {
     "data": {
      "text/plain": [
       "5"
      ]
     },
     "execution_count": 8,
     "metadata": {},
     "output_type": "execute_result"
    }
   ],
   "source": [
    "randint(0,20)"
   ]
  },
  {
   "cell_type": "code",
   "execution_count": 44,
   "id": "72630adc",
   "metadata": {},
   "outputs": [
    {
     "name": "stdout",
     "output_type": "stream",
     "text": [
      "20\n"
     ]
    }
   ],
   "source": [
    "event_roll = print( randint(1,20) )"
   ]
  },
  {
   "cell_type": "code",
   "execution_count": 48,
   "id": "8317f1df",
   "metadata": {},
   "outputs": [
    {
     "name": "stdout",
     "output_type": "stream",
     "text": [
      "What is your name? 0\n"
     ]
    }
   ],
   "source": [
    "result = input('What is your name? ')"
   ]
  },
  {
   "cell_type": "code",
   "execution_count": 49,
   "id": "21eedcc0",
   "metadata": {},
   "outputs": [
    {
     "data": {
      "text/plain": [
       "'0'"
      ]
     },
     "execution_count": 49,
     "metadata": {},
     "output_type": "execute_result"
    }
   ],
   "source": [
    "result"
   ]
  },
  {
   "cell_type": "code",
   "execution_count": 50,
   "id": "f4e87d06",
   "metadata": {},
   "outputs": [
    {
     "data": {
      "text/plain": [
       "str"
      ]
     },
     "execution_count": 50,
     "metadata": {},
     "output_type": "execute_result"
    }
   ],
   "source": [
    "type(result)"
   ]
  },
  {
   "cell_type": "code",
   "execution_count": 51,
   "id": "08125ea5",
   "metadata": {},
   "outputs": [
    {
     "data": {
      "text/plain": [
       "0.0"
      ]
     },
     "execution_count": 51,
     "metadata": {},
     "output_type": "execute_result"
    }
   ],
   "source": [
    "float(result)"
   ]
  },
  {
   "cell_type": "code",
   "execution_count": 52,
   "id": "cd19ba14",
   "metadata": {},
   "outputs": [
    {
     "data": {
      "text/plain": [
       "str"
      ]
     },
     "execution_count": 52,
     "metadata": {},
     "output_type": "execute_result"
    }
   ],
   "source": [
    "type(result)"
   ]
  },
  {
   "cell_type": "code",
   "execution_count": 53,
   "id": "a83db730",
   "metadata": {},
   "outputs": [
    {
     "data": {
      "text/plain": [
       "0"
      ]
     },
     "execution_count": 53,
     "metadata": {},
     "output_type": "execute_result"
    }
   ],
   "source": [
    "int(result)"
   ]
  },
  {
   "cell_type": "code",
   "execution_count": 54,
   "id": "3c1e1f89",
   "metadata": {},
   "outputs": [],
   "source": [
    "event_rolls = [num for num in range(1,21)]"
   ]
  },
  {
   "cell_type": "code",
   "execution_count": 55,
   "id": "56f7188a",
   "metadata": {},
   "outputs": [
    {
     "data": {
      "text/plain": [
       "[1, 2, 3, 4, 5, 6, 7, 8, 9, 10, 11, 12, 13, 14, 15, 16, 17, 18, 19, 20]"
      ]
     },
     "execution_count": 55,
     "metadata": {},
     "output_type": "execute_result"
    }
   ],
   "source": [
    "event_rolls"
   ]
  },
  {
   "cell_type": "code",
   "execution_count": 56,
   "id": "5ede2065",
   "metadata": {},
   "outputs": [
    {
     "data": {
      "text/plain": [
       "list"
      ]
     },
     "execution_count": 56,
     "metadata": {},
     "output_type": "execute_result"
    }
   ],
   "source": [
    "type(event_rolls)"
   ]
  },
  {
   "cell_type": "code",
   "execution_count": 61,
   "id": "6a52f6a8",
   "metadata": {},
   "outputs": [],
   "source": [
    "event_rolls = [num**2 for num in range(1,21)]"
   ]
  },
  {
   "cell_type": "code",
   "execution_count": 62,
   "id": "529b53a6",
   "metadata": {},
   "outputs": [
    {
     "data": {
      "text/plain": [
       "[1,\n",
       " 4,\n",
       " 9,\n",
       " 16,\n",
       " 25,\n",
       " 36,\n",
       " 49,\n",
       " 64,\n",
       " 81,\n",
       " 100,\n",
       " 121,\n",
       " 144,\n",
       " 169,\n",
       " 196,\n",
       " 225,\n",
       " 256,\n",
       " 289,\n",
       " 324,\n",
       " 361,\n",
       " 400]"
      ]
     },
     "execution_count": 62,
     "metadata": {},
     "output_type": "execute_result"
    }
   ],
   "source": [
    "event_rolls"
   ]
  },
  {
   "cell_type": "code",
   "execution_count": 65,
   "id": "2fc7b19a",
   "metadata": {},
   "outputs": [],
   "source": [
    "odd_event_rolls = [num for num in range(1,21) if num % 2 == 0]"
   ]
  },
  {
   "cell_type": "code",
   "execution_count": 66,
   "id": "0e1f6024",
   "metadata": {},
   "outputs": [
    {
     "data": {
      "text/plain": [
       "[2, 4, 6, 8, 10, 12, 14, 16, 18, 20]"
      ]
     },
     "execution_count": 66,
     "metadata": {},
     "output_type": "execute_result"
    }
   ],
   "source": [
    "odd_event_rolls"
   ]
  },
  {
   "cell_type": "code",
   "execution_count": 71,
   "id": "b436850c",
   "metadata": {},
   "outputs": [
    {
     "name": "stdout",
     "output_type": "stream",
     "text": [
      "[0, 10, 20, 34.5]\n",
      "[32.0, 50.0, 68.0, 94.1]\n",
      "\n",
      "\n",
      "[0, 10, 20, 34.5]\n",
      "[32.0, 50.0, 68.0, 94.1]\n"
     ]
    }
   ],
   "source": [
    "# List Comprehension version:\n",
    "\n",
    "celsius = [0,10,20,34.5]\n",
    "\n",
    "fahrenheit = [ ( (9 / 5)* temp + 32 ) for temp in celsius]\n",
    "\n",
    "print(celsius)\n",
    "print(fahrenheit)\n",
    "\n",
    "# For loop verison:\n",
    "\n",
    "fahrenheit = []\n",
    "\n",
    "for temp in celsius:\n",
    "    fahrenheit.append( ( 9 / 5) * temp + 32 )\n",
    "    \n",
    "print('\\n')\n",
    "print(celsius)\n",
    "print(fahrenheit)"
   ]
  },
  {
   "cell_type": "code",
   "execution_count": 74,
   "id": "3287111a",
   "metadata": {},
   "outputs": [],
   "source": [
    "def say_hello():\n",
    "    print('Hello')\n",
    "    print('How')\n",
    "    print('Are')\n",
    "    print('You?')"
   ]
  },
  {
   "cell_type": "code",
   "execution_count": 75,
   "id": "679b1000",
   "metadata": {},
   "outputs": [
    {
     "name": "stdout",
     "output_type": "stream",
     "text": [
      "Hello\n",
      "How\n",
      "Are\n",
      "You?\n"
     ]
    }
   ],
   "source": [
    "say_hello()"
   ]
  },
  {
   "cell_type": "code",
   "execution_count": 80,
   "id": "ef976c17",
   "metadata": {},
   "outputs": [],
   "source": [
    "def say_hello(name = 'Default'):\n",
    "    print(f'Hello, {name}')"
   ]
  },
  {
   "cell_type": "code",
   "execution_count": 82,
   "id": "087e175c",
   "metadata": {},
   "outputs": [
    {
     "name": "stdout",
     "output_type": "stream",
     "text": [
      "Hello, Jackoff\n"
     ]
    }
   ],
   "source": [
    "say_hello('Jackoff')"
   ]
  },
  {
   "cell_type": "code",
   "execution_count": 83,
   "id": "c509b7e5",
   "metadata": {},
   "outputs": [],
   "source": [
    "def add_num(num1,num2):\n",
    "    return num1 + num2"
   ]
  },
  {
   "cell_type": "code",
   "execution_count": 84,
   "id": "805be33b",
   "metadata": {},
   "outputs": [
    {
     "data": {
      "text/plain": [
       "30"
      ]
     },
     "execution_count": 84,
     "metadata": {},
     "output_type": "execute_result"
    }
   ],
   "source": [
    "add_num(10,20)"
   ]
  },
  {
   "cell_type": "code",
   "execution_count": 85,
   "id": "adec9dc8",
   "metadata": {},
   "outputs": [],
   "source": [
    "result = add_num(10,20)"
   ]
  },
  {
   "cell_type": "code",
   "execution_count": 86,
   "id": "bf3c2f82",
   "metadata": {},
   "outputs": [
    {
     "name": "stdout",
     "output_type": "stream",
     "text": [
      "30\n"
     ]
    }
   ],
   "source": [
    "print(result)"
   ]
  },
  {
   "cell_type": "code",
   "execution_count": 87,
   "id": "8c583e9d",
   "metadata": {},
   "outputs": [],
   "source": [
    "def print_result(a,b):\n",
    "    print(a + b)"
   ]
  },
  {
   "cell_type": "code",
   "execution_count": 89,
   "id": "d8604732",
   "metadata": {},
   "outputs": [],
   "source": [
    "def return_result(a,b):\n",
    "    return a + b"
   ]
  },
  {
   "cell_type": "code",
   "execution_count": 90,
   "id": "d0ce6724",
   "metadata": {},
   "outputs": [
    {
     "name": "stdout",
     "output_type": "stream",
     "text": [
      "30\n"
     ]
    }
   ],
   "source": [
    "print_result(10,20)"
   ]
  },
  {
   "cell_type": "code",
   "execution_count": 92,
   "id": "d6786ac8",
   "metadata": {},
   "outputs": [],
   "source": [
    "result = return_result(10,20)"
   ]
  },
  {
   "cell_type": "code",
   "execution_count": 97,
   "id": "c19488b7",
   "metadata": {},
   "outputs": [
    {
     "data": {
      "text/plain": [
       "30"
      ]
     },
     "execution_count": 97,
     "metadata": {},
     "output_type": "execute_result"
    }
   ],
   "source": [
    "result"
   ]
  },
  {
   "cell_type": "code",
   "execution_count": 100,
   "id": "2a4010e4",
   "metadata": {},
   "outputs": [],
   "source": [
    "def even_check(number):\n",
    "    return number % 2 == 0"
   ]
  },
  {
   "cell_type": "code",
   "execution_count": 101,
   "id": "02452e81",
   "metadata": {},
   "outputs": [
    {
     "data": {
      "text/plain": [
       "True"
      ]
     },
     "execution_count": 101,
     "metadata": {},
     "output_type": "execute_result"
    }
   ],
   "source": [
    "even_check(10)"
   ]
  },
  {
   "cell_type": "code",
   "execution_count": 102,
   "id": "b76ede9d",
   "metadata": {},
   "outputs": [
    {
     "data": {
      "text/plain": [
       "False"
      ]
     },
     "execution_count": 102,
     "metadata": {},
     "output_type": "execute_result"
    }
   ],
   "source": [
    "even_check(21)"
   ]
  },
  {
   "cell_type": "code",
   "execution_count": 107,
   "id": "1d4e435e",
   "metadata": {},
   "outputs": [],
   "source": [
    "# Return TRUE if any number inside of a list is even\n",
    "\n",
    "def check_even_list(num_list):\n",
    "    \n",
    "    for number in num_list:\n",
    "        \n",
    "        if number % 2 == 0:\n",
    "            return True\n",
    "        else:\n",
    "            pass\n",
    "        \n",
    "    return False"
   ]
  },
  {
   "cell_type": "code",
   "execution_count": 108,
   "id": "f0d64f6f",
   "metadata": {},
   "outputs": [
    {
     "data": {
      "text/plain": [
       "False"
      ]
     },
     "execution_count": 108,
     "metadata": {},
     "output_type": "execute_result"
    }
   ],
   "source": [
    "check_even_list([1,3,5,7,9])"
   ]
  },
  {
   "cell_type": "code",
   "execution_count": 109,
   "id": "3380c97e",
   "metadata": {},
   "outputs": [
    {
     "data": {
      "text/plain": [
       "True"
      ]
     },
     "execution_count": 109,
     "metadata": {},
     "output_type": "execute_result"
    }
   ],
   "source": [
    "check_even_list([2,4,6,8,10])"
   ]
  },
  {
   "cell_type": "code",
   "execution_count": 110,
   "id": "bae0d4c0",
   "metadata": {},
   "outputs": [
    {
     "data": {
      "text/plain": [
       "True"
      ]
     },
     "execution_count": 110,
     "metadata": {},
     "output_type": "execute_result"
    }
   ],
   "source": [
    "check_even_list([1,2,3])"
   ]
  },
  {
   "cell_type": "code",
   "execution_count": 114,
   "id": "7bb7f742",
   "metadata": {},
   "outputs": [],
   "source": [
    "# Return all of the even numbers in a list\n",
    "\n",
    "def check_even_list(num_list):\n",
    "    \n",
    "    #Placeholder variable\n",
    "    even_numbers = []\n",
    "    \n",
    "    for number in num_list:\n",
    "        \n",
    "        if number % 2 == 0:\n",
    "            even_numbers.append(number)\n",
    "        else:\n",
    "            pass\n",
    "        \n",
    "    return even_numbers"
   ]
  },
  {
   "cell_type": "code",
   "execution_count": 116,
   "id": "2b85cdac",
   "metadata": {},
   "outputs": [
    {
     "data": {
      "text/plain": [
       "[2, 4, 10000]"
      ]
     },
     "execution_count": 116,
     "metadata": {},
     "output_type": "execute_result"
    }
   ],
   "source": [
    "check_even_list([1,2,3,4,10000])"
   ]
  },
  {
   "cell_type": "code",
   "execution_count": 117,
   "id": "d1bb235a",
   "metadata": {},
   "outputs": [
    {
     "data": {
      "text/plain": [
       "[]"
      ]
     },
     "execution_count": 117,
     "metadata": {},
     "output_type": "execute_result"
    }
   ],
   "source": [
    "check_even_list([1,3,5])"
   ]
  },
  {
   "cell_type": "code",
   "execution_count": 118,
   "id": "c732b586",
   "metadata": {},
   "outputs": [],
   "source": [
    "stock_prices = [('APPL',200),('GOOG',300),('AMZN',400)]"
   ]
  },
  {
   "cell_type": "code",
   "execution_count": 119,
   "id": "a18ff673",
   "metadata": {},
   "outputs": [
    {
     "name": "stdout",
     "output_type": "stream",
     "text": [
      "APPL\n",
      "200\n",
      "GOOG\n",
      "300\n",
      "AMZN\n",
      "400\n"
     ]
    }
   ],
   "source": [
    "for ticker,price in stock_prices:\n",
    "    print(ticker)\n",
    "    print(price)"
   ]
  },
  {
   "cell_type": "code",
   "execution_count": 132,
   "id": "fcc32a11",
   "metadata": {},
   "outputs": [],
   "source": [
    "work_hours = [('Abbey',1000,'Salisbury'),('Billy',400,'Scarborough'),('Chris',800,'Quincy')]"
   ]
  },
  {
   "cell_type": "code",
   "execution_count": 133,
   "id": "c45a362f",
   "metadata": {},
   "outputs": [],
   "source": [
    "def employee_check(work_hours):\n",
    "    \n",
    "    # Placeholders\n",
    "    current_max = 0\n",
    "    employee_of_month = ''\n",
    "    home_office = ''\n",
    "    \n",
    "    for employee,hours,location in work_hours:\n",
    "        if hours > current_max:\n",
    "            current_max = hours\n",
    "            employee_of_month = employee\n",
    "            location = home_office \n",
    "        else:\n",
    "            pass\n",
    "    \n",
    "    # Return a tuple with employee of the month and their current max hours\n",
    "    return (employee_of_month,current_max,location)"
   ]
  },
  {
   "cell_type": "code",
   "execution_count": 134,
   "id": "4ef32477",
   "metadata": {},
   "outputs": [
    {
     "data": {
      "text/plain": [
       "('Abbey', 1000, 'Quincy')"
      ]
     },
     "execution_count": 134,
     "metadata": {},
     "output_type": "execute_result"
    }
   ],
   "source": [
    "employee_check(work_hours)"
   ]
  },
  {
   "cell_type": "code",
   "execution_count": 135,
   "id": "50c117bc",
   "metadata": {},
   "outputs": [],
   "source": [
    "name,hours,location = employee_check(work_hours)"
   ]
  },
  {
   "cell_type": "code",
   "execution_count": 136,
   "id": "fa304824",
   "metadata": {},
   "outputs": [
    {
     "data": {
      "text/plain": [
       "'Abbey'"
      ]
     },
     "execution_count": 136,
     "metadata": {},
     "output_type": "execute_result"
    }
   ],
   "source": [
    "name"
   ]
  },
  {
   "cell_type": "code",
   "execution_count": 137,
   "id": "a3a7c203",
   "metadata": {},
   "outputs": [
    {
     "data": {
      "text/plain": [
       "1000"
      ]
     },
     "execution_count": 137,
     "metadata": {},
     "output_type": "execute_result"
    }
   ],
   "source": [
    "hours"
   ]
  },
  {
   "cell_type": "code",
   "execution_count": 138,
   "id": "2b9ed8d7",
   "metadata": {},
   "outputs": [
    {
     "data": {
      "text/plain": [
       "'Quincy'"
      ]
     },
     "execution_count": 138,
     "metadata": {},
     "output_type": "execute_result"
    }
   ],
   "source": [
    "location"
   ]
  },
  {
   "cell_type": "code",
   "execution_count": 140,
   "id": "d71c7cae",
   "metadata": {},
   "outputs": [
    {
     "data": {
      "text/plain": [
       "('Abbey', 1000, 'Quincy')"
      ]
     },
     "execution_count": 140,
     "metadata": {},
     "output_type": "execute_result"
    }
   ],
   "source": [
    "employee_check(work_hours)"
   ]
  },
  {
   "cell_type": "code",
   "execution_count": 141,
   "id": "4e0d31b1",
   "metadata": {},
   "outputs": [],
   "source": [
    "example = [1,2,3,4,5,6,7]"
   ]
  },
  {
   "cell_type": "code",
   "execution_count": 142,
   "id": "063e4a0d",
   "metadata": {},
   "outputs": [],
   "source": [
    "from random import shuffle"
   ]
  },
  {
   "cell_type": "code",
   "execution_count": 143,
   "id": "656ecfef",
   "metadata": {},
   "outputs": [],
   "source": [
    "shuffle(example)"
   ]
  },
  {
   "cell_type": "code",
   "execution_count": 144,
   "id": "0dc12913",
   "metadata": {},
   "outputs": [
    {
     "data": {
      "text/plain": [
       "[5, 6, 4, 7, 3, 2, 1]"
      ]
     },
     "execution_count": 144,
     "metadata": {},
     "output_type": "execute_result"
    }
   ],
   "source": [
    "example"
   ]
  },
  {
   "cell_type": "code",
   "execution_count": 183,
   "id": "75a14438",
   "metadata": {},
   "outputs": [],
   "source": [
    "def shuffle_list(mylist):\n",
    "    shuffle(mylist)\n",
    "    return mylist"
   ]
  },
  {
   "cell_type": "code",
   "execution_count": 184,
   "id": "0aa4eb70",
   "metadata": {},
   "outputs": [],
   "source": [
    "mylist = [ ' ', 'O', ' ']"
   ]
  },
  {
   "cell_type": "code",
   "execution_count": 185,
   "id": "dbeeae98",
   "metadata": {},
   "outputs": [
    {
     "data": {
      "text/plain": [
       "[' ', 'O', ' ']"
      ]
     },
     "execution_count": 185,
     "metadata": {},
     "output_type": "execute_result"
    }
   ],
   "source": [
    "shuffle_list(mylist)"
   ]
  },
  {
   "cell_type": "code",
   "execution_count": 186,
   "id": "d4e41068",
   "metadata": {},
   "outputs": [],
   "source": [
    "def player_guess():\n",
    "    \n",
    "    guess = ''\n",
    "    \n",
    "    while guess not in ['0','1','2']:\n",
    "        guess = input('Is the ball under cup 0, 1, or 2? ')\n",
    "    \n",
    "    return int(guess)"
   ]
  },
  {
   "cell_type": "code",
   "execution_count": 178,
   "id": "0ad9ce36",
   "metadata": {},
   "outputs": [
    {
     "name": "stdout",
     "output_type": "stream",
     "text": [
      "Is the ball under cup 0, 1, or 2? 1\n"
     ]
    },
    {
     "data": {
      "text/plain": [
       "1"
      ]
     },
     "execution_count": 178,
     "metadata": {},
     "output_type": "execute_result"
    }
   ],
   "source": [
    "player_guess()"
   ]
  },
  {
   "cell_type": "code",
   "execution_count": 189,
   "id": "0d32eedd",
   "metadata": {},
   "outputs": [],
   "source": [
    "def check_guess(mylist,guess):\n",
    "    \n",
    "    if mylist[guess] == 'O':\n",
    "        print('Correct!')\n",
    "    else:\n",
    "        print('Incorrect. '+ str(mylist) )"
   ]
  },
  {
   "cell_type": "code",
   "execution_count": 190,
   "id": "9c8c4f1b",
   "metadata": {},
   "outputs": [
    {
     "name": "stdout",
     "output_type": "stream",
     "text": [
      "Is the ball under cup 0, 1, or 2? 1\n",
      "Incorrect. ['O', ' ', ' ']\n"
     ]
    }
   ],
   "source": [
    "# Initial list\n",
    "mylist = [ ' ', 'O', ' ']\n",
    "\n",
    "# Shuffled list\n",
    "shuffled_list = shuffle_list(mylist)\n",
    "\n",
    "# Player's guess\n",
    "guess = player_guess()\n",
    "\n",
    "# Check guess if correct or incorrect\n",
    "check_guess(shuffled_list,guess)"
   ]
  },
  {
   "cell_type": "code",
   "execution_count": null,
   "id": "d09cb8b1",
   "metadata": {},
   "outputs": [],
   "source": []
  }
 ],
 "metadata": {
  "kernelspec": {
   "display_name": "Python 3 (ipykernel)",
   "language": "python",
   "name": "python3"
  },
  "language_info": {
   "codemirror_mode": {
    "name": "ipython",
    "version": 3
   },
   "file_extension": ".py",
   "mimetype": "text/x-python",
   "name": "python",
   "nbconvert_exporter": "python",
   "pygments_lexer": "ipython3",
   "version": "3.9.1"
  }
 },
 "nbformat": 4,
 "nbformat_minor": 5
}
