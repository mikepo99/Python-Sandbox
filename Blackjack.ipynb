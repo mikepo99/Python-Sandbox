{
 "cells": [
  {
   "cell_type": "code",
   "execution_count": null,
   "id": "74676d3d",
   "metadata": {},
   "outputs": [],
   "source": [
    "def blackjack(a,b,c):\n",
    "    \n",
    "    card_sum = 0\n",
    "    \n",
    "    if a + b + c <= 21:\n",
    "        return a + b + c\n",
    "    elif a == 11 or b == 11 or c == 11:\n",
    "        card_sum = (a + b + c) - 10\n",
    "        \n",
    "        if card_sum > 21:\n",
    "            return 'BUST'\n",
    "        else:\n",
    "            return card_sum\n",
    "        \n",
    "    else:\n",
    "        return 'BUST'"
   ]
  }
 ],
 "metadata": {
  "kernelspec": {
   "display_name": "Python 3 (ipykernel)",
   "language": "python",
   "name": "python3"
  },
  "language_info": {
   "codemirror_mode": {
    "name": "ipython",
    "version": 3
   },
   "file_extension": ".py",
   "mimetype": "text/x-python",
   "name": "python",
   "nbconvert_exporter": "python",
   "pygments_lexer": "ipython3",
   "version": "3.9.1"
  }
 },
 "nbformat": 4,
 "nbformat_minor": 5
}
