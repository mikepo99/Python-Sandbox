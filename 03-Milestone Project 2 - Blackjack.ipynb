{
 "cells": [
  {
   "cell_type": "code",
   "execution_count": 1,
   "id": "5cdf0c8c",
   "metadata": {},
   "outputs": [],
   "source": [
    "# CARD CLASS\n",
    "\n",
    "import random"
   ]
  },
  {
   "cell_type": "code",
   "execution_count": 2,
   "id": "e3115db7",
   "metadata": {},
   "outputs": [],
   "source": [
    "suits = ('Hearts', 'Diamonds', 'Spades', 'Clubs')\n",
    "ranks = ('Two', 'Three', 'Four', 'Five', 'Six', 'Seven', 'Eight', 'Nine', 'Ten', 'Jack', 'Queen', 'King', 'Ace')\n",
    "values = {'Two':2, 'Three':3, 'Four':4, 'Five':5, 'Six':6, 'Seven':7, 'Eight':8, 'Nine':9, 'Ten':10, 'Jack':10, 'Queen':10, 'King':10, 'Ace':11}"
   ]
  },
  {
   "cell_type": "code",
   "execution_count": 3,
   "id": "9007b4ca",
   "metadata": {},
   "outputs": [],
   "source": [
    "# CARD CLASS\n",
    "\n",
    "class Card:\n",
    "    \n",
    "    def __init__(self,suit,rank):\n",
    "        self.suit = suit\n",
    "        self.rank = rank\n",
    "        self.value = values[rank]\n",
    "        \n",
    "    def __str__(self):\n",
    "        return self.rank + \" of \" + self.suit"
   ]
  },
  {
   "cell_type": "code",
   "execution_count": 11,
   "id": "dc55e646",
   "metadata": {},
   "outputs": [],
   "source": [
    "# DECK OF CARDS CLASS\n",
    "\n",
    "class Deck:\n",
    "    \n",
    "    def __init__(self):\n",
    "        self.all_cards = [] \n",
    "        \n",
    "        for suit in suits:\n",
    "            \n",
    "            for rank in ranks:\n",
    "                self.all_cards.append(Card(suit,rank))\n",
    "                \n",
    "    def shuffle(self):\n",
    "        random.shuffle(self.all_cards)\n",
    "        \n",
    "    def deal(self):\n",
    "        return self.all_cards.pop()\n",
    "    \n",
    "    def __str__(self):\n",
    "        return str(len(self.all_cards)) + \" cards remaining in the deck.\""
   ]
  },
  {
   "cell_type": "code",
   "execution_count": 12,
   "id": "be402a91",
   "metadata": {},
   "outputs": [],
   "source": [
    "mydeck = Deck()"
   ]
  },
  {
   "cell_type": "code",
   "execution_count": 13,
   "id": "1b56bd1f",
   "metadata": {},
   "outputs": [
    {
     "name": "stdout",
     "output_type": "stream",
     "text": [
      "52 cards remaining in the deck.\n"
     ]
    }
   ],
   "source": [
    "print(mydeck)"
   ]
  },
  {
   "cell_type": "code",
   "execution_count": 14,
   "id": "45c985e2",
   "metadata": {},
   "outputs": [],
   "source": [
    "# HAND CLASS\n",
    "\n",
    "class Hand:\n",
    "    \n",
    "    def __init__(self):\n",
    "        self.cards = []\n",
    "        self.value = 0\n",
    "        self.aces = 0\n",
    "    \n",
    "    def hit(self,card):\n",
    "        pass\n",
    "    \n",
    "    def ace_adjust(self):\n",
    "        pass"
   ]
  },
  {
   "cell_type": "code",
   "execution_count": 24,
   "id": "6ce0f848",
   "metadata": {},
   "outputs": [],
   "source": [
    "# CHIPS CLASS\n",
    "\n",
    "class Chips:\n",
    "    \n",
    "    def __init__(self):\n",
    "        self.total = 100\n",
    "        self.bet = 0\n",
    "        \n",
    "    def win_bet(self):\n",
    "        self.total += self.bet\n",
    "    \n",
    "    def lose_bet(self):\n",
    "        self.total -= self.bet\n",
    "    \n",
    "    def __str__(self):\n",
    "        return \"I have \" + str(self.total) + \" chips to bet.\""
   ]
  },
  {
   "cell_type": "code",
   "execution_count": 25,
   "id": "52d16a7c",
   "metadata": {},
   "outputs": [
    {
     "name": "stdout",
     "output_type": "stream",
     "text": [
      "I have 100 chips to bet.\n"
     ]
    }
   ],
   "source": [
    "print(Chips())"
   ]
  },
  {
   "cell_type": "code",
   "execution_count": 31,
   "id": "8986d5f7",
   "metadata": {},
   "outputs": [],
   "source": [
    "# Make a bet\n",
    "\n",
    "mybet = 0\n",
    "total_chips = Chips()\n",
    "\n",
    "def make_bet():\n",
    "    \n",
    "    mybet = int(input(\"Place your bet: \"))\n",
    "    \n",
    "    if mybet > total_chips:\n",
    "        mybet = int(input(\"You don't have enough chips! Please try again: \"))"
   ]
  },
  {
   "cell_type": "code",
   "execution_count": 32,
   "id": "9f64aee4",
   "metadata": {},
   "outputs": [
    {
     "name": "stdout",
     "output_type": "stream",
     "text": [
      "I have 100 chips to bet.\n"
     ]
    }
   ],
   "source": [
    "print(total_chips)"
   ]
  },
  {
   "cell_type": "code",
   "execution_count": 33,
   "id": "231163a8",
   "metadata": {},
   "outputs": [
    {
     "ename": "NameError",
     "evalue": "name 'total' is not defined",
     "output_type": "error",
     "traceback": [
      "\u001b[1;31m---------------------------------------------------------------------------\u001b[0m",
      "\u001b[1;31mNameError\u001b[0m                                 Traceback (most recent call last)",
      "Input \u001b[1;32mIn [33]\u001b[0m, in \u001b[0;36m<cell line: 1>\u001b[1;34m()\u001b[0m\n\u001b[1;32m----> 1\u001b[0m total_chips(\u001b[43mtotal\u001b[49m)\n",
      "\u001b[1;31mNameError\u001b[0m: name 'total' is not defined"
     ]
    }
   ],
   "source": []
  },
  {
   "cell_type": "code",
   "execution_count": null,
   "id": "8ecded62",
   "metadata": {},
   "outputs": [],
   "source": []
  }
 ],
 "metadata": {
  "kernelspec": {
   "display_name": "Python 3 (ipykernel)",
   "language": "python",
   "name": "python3"
  },
  "language_info": {
   "codemirror_mode": {
    "name": "ipython",
    "version": 3
   },
   "file_extension": ".py",
   "mimetype": "text/x-python",
   "name": "python",
   "nbconvert_exporter": "python",
   "pygments_lexer": "ipython3",
   "version": "3.9.7"
  }
 },
 "nbformat": 4,
 "nbformat_minor": 5
}
